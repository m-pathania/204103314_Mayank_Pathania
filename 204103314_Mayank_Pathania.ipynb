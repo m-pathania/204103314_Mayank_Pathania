{
 "cells": [
  {
   "cell_type": "code",
   "execution_count": 1,
   "metadata": {},
   "outputs": [],
   "source": [
    "# Loading Modules\n",
    "import numpy as np\n",
    "import pandas as pd\n",
    "from matplotlib import pyplot as plt\n",
    "import seaborn as sns\n",
    "\n",
    "%matplotlib inline"
   ]
  },
  {
   "cell_type": "markdown",
   "metadata": {},
   "source": [
    "## 1. Analysing Data"
   ]
  },
  {
   "cell_type": "code",
   "execution_count": 2,
   "metadata": {},
   "outputs": [
    {
     "name": "stdout",
     "output_type": "stream",
     "text": [
      "number of rows = 1896, number of columns = 7\n"
     ]
    },
    {
     "data": {
      "text/html": [
       "<div>\n",
       "<style scoped>\n",
       "    .dataframe tbody tr th:only-of-type {\n",
       "        vertical-align: middle;\n",
       "    }\n",
       "\n",
       "    .dataframe tbody tr th {\n",
       "        vertical-align: top;\n",
       "    }\n",
       "\n",
       "    .dataframe thead th {\n",
       "        text-align: right;\n",
       "    }\n",
       "</style>\n",
       "<table border=\"1\" class=\"dataframe\">\n",
       "  <thead>\n",
       "    <tr style=\"text-align: right;\">\n",
       "      <th></th>\n",
       "      <th>ID</th>\n",
       "      <th>Segment type</th>\n",
       "      <th>Segment Description</th>\n",
       "      <th>Answer</th>\n",
       "      <th>Count</th>\n",
       "      <th>Percentage</th>\n",
       "      <th>It became a relationship</th>\n",
       "    </tr>\n",
       "  </thead>\n",
       "  <tbody>\n",
       "    <tr>\n",
       "      <th>1053</th>\n",
       "      <td>292902.3261</td>\n",
       "      <td>gender</td>\n",
       "      <td>Meridian, Idaho</td>\n",
       "      <td>No</td>\n",
       "      <td>483.820205</td>\n",
       "      <td>0.295288</td>\n",
       "      <td>0</td>\n",
       "    </tr>\n",
       "    <tr>\n",
       "      <th>38</th>\n",
       "      <td>292902.0408</td>\n",
       "      <td>gender</td>\n",
       "      <td>Meridian, Idaho</td>\n",
       "      <td>No</td>\n",
       "      <td>525.272291</td>\n",
       "      <td>0.306047</td>\n",
       "      <td>0</td>\n",
       "    </tr>\n",
       "    <tr>\n",
       "      <th>1244</th>\n",
       "      <td>292888.7634</td>\n",
       "      <td>web</td>\n",
       "      <td>Meridian, Idaho</td>\n",
       "      <td>No</td>\n",
       "      <td>0.000000</td>\n",
       "      <td>0.000000</td>\n",
       "      <td>0</td>\n",
       "    </tr>\n",
       "    <tr>\n",
       "      <th>924</th>\n",
       "      <td>293629.0000</td>\n",
       "      <td>university</td>\n",
       "      <td>Whatsgoodly University</td>\n",
       "      <td>I don't use Tinder</td>\n",
       "      <td>0.000000</td>\n",
       "      <td>0.000000</td>\n",
       "      <td>1</td>\n",
       "    </tr>\n",
       "    <tr>\n",
       "      <th>833</th>\n",
       "      <td>292889.9595</td>\n",
       "      <td>web</td>\n",
       "      <td>Meridian, Idaho</td>\n",
       "      <td>No</td>\n",
       "      <td>0.000000</td>\n",
       "      <td>0.000000</td>\n",
       "      <td>0</td>\n",
       "    </tr>\n",
       "  </tbody>\n",
       "</table>\n",
       "</div>"
      ],
      "text/plain": [
       "               ID Segment type     Segment Description              Answer  \\\n",
       "1053  292902.3261       gender         Meridian, Idaho                  No   \n",
       "38    292902.0408       gender         Meridian, Idaho                  No   \n",
       "1244  292888.7634          web         Meridian, Idaho                  No   \n",
       "924   293629.0000   university  Whatsgoodly University  I don't use Tinder   \n",
       "833   292889.9595          web         Meridian, Idaho                  No   \n",
       "\n",
       "           Count  Percentage  It became a relationship  \n",
       "1053  483.820205    0.295288                         0  \n",
       "38    525.272291    0.306047                         0  \n",
       "1244    0.000000    0.000000                         0  \n",
       "924     0.000000    0.000000                         1  \n",
       "833     0.000000    0.000000                         0  "
      ]
     },
     "execution_count": 2,
     "metadata": {},
     "output_type": "execute_result"
    }
   ],
   "source": [
    "# Loading the dataset\n",
    "\n",
    "df = pd.read_csv('task2.csv')\n",
    "print(\"number of rows = %d, number of columns = %d\"% df.shape)\n",
    "df.sample(5)"
   ]
  },
  {
   "cell_type": "markdown",
   "metadata": {},
   "source": [
    "Now, using .info() method and .isnull() method we can see we there are any missing values present in the data"
   ]
  },
  {
   "cell_type": "code",
   "execution_count": 3,
   "metadata": {},
   "outputs": [
    {
     "name": "stdout",
     "output_type": "stream",
     "text": [
      "<class 'pandas.core.frame.DataFrame'>\n",
      "RangeIndex: 1896 entries, 0 to 1895\n",
      "Data columns (total 7 columns):\n",
      " #   Column                    Non-Null Count  Dtype  \n",
      "---  ------                    --------------  -----  \n",
      " 0   ID                        1896 non-null   float64\n",
      " 1   Segment type              1896 non-null   object \n",
      " 2   Segment Description       1896 non-null   object \n",
      " 3   Answer                    1896 non-null   object \n",
      " 4   Count                     1896 non-null   float64\n",
      " 5   Percentage                1896 non-null   float64\n",
      " 6   It became a relationship  1896 non-null   int64  \n",
      "dtypes: float64(3), int64(1), object(3)\n",
      "memory usage: 103.8+ KB\n"
     ]
    }
   ],
   "source": [
    "# Checking for missing values\n",
    "\n",
    "df.info()"
   ]
  },
  {
   "cell_type": "code",
   "execution_count": 4,
   "metadata": {},
   "outputs": [
    {
     "data": {
      "text/html": [
       "<div>\n",
       "<style scoped>\n",
       "    .dataframe tbody tr th:only-of-type {\n",
       "        vertical-align: middle;\n",
       "    }\n",
       "\n",
       "    .dataframe tbody tr th {\n",
       "        vertical-align: top;\n",
       "    }\n",
       "\n",
       "    .dataframe thead th {\n",
       "        text-align: right;\n",
       "    }\n",
       "</style>\n",
       "<table border=\"1\" class=\"dataframe\">\n",
       "  <thead>\n",
       "    <tr style=\"text-align: right;\">\n",
       "      <th></th>\n",
       "      <th>ID</th>\n",
       "      <th>Segment type</th>\n",
       "      <th>Segment Description</th>\n",
       "      <th>Answer</th>\n",
       "      <th>Count</th>\n",
       "      <th>Percentage</th>\n",
       "      <th>It became a relationship</th>\n",
       "    </tr>\n",
       "  </thead>\n",
       "  <tbody>\n",
       "  </tbody>\n",
       "</table>\n",
       "</div>"
      ],
      "text/plain": [
       "Empty DataFrame\n",
       "Columns: [ID, Segment type, Segment Description, Answer, Count, Percentage, It became a relationship]\n",
       "Index: []"
      ]
     },
     "execution_count": 4,
     "metadata": {},
     "output_type": "execute_result"
    }
   ],
   "source": [
    "df[df.isnull().any(axis = 1)]"
   ]
  },
  {
   "cell_type": "markdown",
   "metadata": {},
   "source": [
    "As the above dataframe is empty there are no NaN or missing vales. df.info() also indicated that the non-null values in each column are equal to number of rows. This implies that there are no NaN or missing values.\n",
    "To get more info regarding the data we can use .descibe() method."
   ]
  },
  {
   "cell_type": "code",
   "execution_count": 5,
   "metadata": {},
   "outputs": [
    {
     "data": {
      "text/html": [
       "<div>\n",
       "<style scoped>\n",
       "    .dataframe tbody tr th:only-of-type {\n",
       "        vertical-align: middle;\n",
       "    }\n",
       "\n",
       "    .dataframe tbody tr th {\n",
       "        vertical-align: top;\n",
       "    }\n",
       "\n",
       "    .dataframe thead th {\n",
       "        text-align: right;\n",
       "    }\n",
       "</style>\n",
       "<table border=\"1\" class=\"dataframe\">\n",
       "  <thead>\n",
       "    <tr style=\"text-align: right;\">\n",
       "      <th></th>\n",
       "      <th>ID</th>\n",
       "      <th>Segment type</th>\n",
       "      <th>Segment Description</th>\n",
       "      <th>Answer</th>\n",
       "      <th>Count</th>\n",
       "      <th>Percentage</th>\n",
       "      <th>It became a relationship</th>\n",
       "    </tr>\n",
       "  </thead>\n",
       "  <tbody>\n",
       "    <tr>\n",
       "      <th>count</th>\n",
       "      <td>1896.000000</td>\n",
       "      <td>1896</td>\n",
       "      <td>1896</td>\n",
       "      <td>1896</td>\n",
       "      <td>1896.000000</td>\n",
       "      <td>1896.000000</td>\n",
       "      <td>1896.000000</td>\n",
       "    </tr>\n",
       "    <tr>\n",
       "      <th>unique</th>\n",
       "      <td>NaN</td>\n",
       "      <td>4</td>\n",
       "      <td>148</td>\n",
       "      <td>3</td>\n",
       "      <td>NaN</td>\n",
       "      <td>NaN</td>\n",
       "      <td>NaN</td>\n",
       "    </tr>\n",
       "    <tr>\n",
       "      <th>top</th>\n",
       "      <td>NaN</td>\n",
       "      <td>gender</td>\n",
       "      <td>Meridian, Idaho</td>\n",
       "      <td>No</td>\n",
       "      <td>NaN</td>\n",
       "      <td>NaN</td>\n",
       "      <td>NaN</td>\n",
       "    </tr>\n",
       "    <tr>\n",
       "      <th>freq</th>\n",
       "      <td>NaN</td>\n",
       "      <td>488</td>\n",
       "      <td>1421</td>\n",
       "      <td>1571</td>\n",
       "      <td>NaN</td>\n",
       "      <td>NaN</td>\n",
       "      <td>NaN</td>\n",
       "    </tr>\n",
       "    <tr>\n",
       "      <th>mean</th>\n",
       "      <td>292999.394750</td>\n",
       "      <td>NaN</td>\n",
       "      <td>NaN</td>\n",
       "      <td>NaN</td>\n",
       "      <td>446.881267</td>\n",
       "      <td>0.254098</td>\n",
       "      <td>0.350738</td>\n",
       "    </tr>\n",
       "    <tr>\n",
       "      <th>std</th>\n",
       "      <td>227.809806</td>\n",
       "      <td>NaN</td>\n",
       "      <td>NaN</td>\n",
       "      <td>NaN</td>\n",
       "      <td>494.110578</td>\n",
       "      <td>0.220809</td>\n",
       "      <td>0.477327</td>\n",
       "    </tr>\n",
       "    <tr>\n",
       "      <th>min</th>\n",
       "      <td>292881.000000</td>\n",
       "      <td>NaN</td>\n",
       "      <td>NaN</td>\n",
       "      <td>NaN</td>\n",
       "      <td>0.000000</td>\n",
       "      <td>0.000000</td>\n",
       "      <td>0.000000</td>\n",
       "    </tr>\n",
       "    <tr>\n",
       "      <th>25%</th>\n",
       "      <td>292888.196925</td>\n",
       "      <td>NaN</td>\n",
       "      <td>NaN</td>\n",
       "      <td>NaN</td>\n",
       "      <td>0.000000</td>\n",
       "      <td>0.000000</td>\n",
       "      <td>0.000000</td>\n",
       "    </tr>\n",
       "    <tr>\n",
       "      <th>50%</th>\n",
       "      <td>292893.904400</td>\n",
       "      <td>NaN</td>\n",
       "      <td>NaN</td>\n",
       "      <td>NaN</td>\n",
       "      <td>400.439633</td>\n",
       "      <td>0.257873</td>\n",
       "      <td>0.000000</td>\n",
       "    </tr>\n",
       "    <tr>\n",
       "      <th>75%</th>\n",
       "      <td>292902.568750</td>\n",
       "      <td>NaN</td>\n",
       "      <td>NaN</td>\n",
       "      <td>NaN</td>\n",
       "      <td>845.560798</td>\n",
       "      <td>0.396787</td>\n",
       "      <td>1.000000</td>\n",
       "    </tr>\n",
       "    <tr>\n",
       "      <th>max</th>\n",
       "      <td>293785.000000</td>\n",
       "      <td>NaN</td>\n",
       "      <td>NaN</td>\n",
       "      <td>NaN</td>\n",
       "      <td>1969.000000</td>\n",
       "      <td>1.000000</td>\n",
       "      <td>1.000000</td>\n",
       "    </tr>\n",
       "  </tbody>\n",
       "</table>\n",
       "</div>"
      ],
      "text/plain": [
       "                   ID Segment type Segment Description Answer        Count  \\\n",
       "count     1896.000000         1896                1896   1896  1896.000000   \n",
       "unique            NaN            4                 148      3          NaN   \n",
       "top               NaN       gender     Meridian, Idaho     No          NaN   \n",
       "freq              NaN          488                1421   1571          NaN   \n",
       "mean    292999.394750          NaN                 NaN    NaN   446.881267   \n",
       "std        227.809806          NaN                 NaN    NaN   494.110578   \n",
       "min     292881.000000          NaN                 NaN    NaN     0.000000   \n",
       "25%     292888.196925          NaN                 NaN    NaN     0.000000   \n",
       "50%     292893.904400          NaN                 NaN    NaN   400.439633   \n",
       "75%     292902.568750          NaN                 NaN    NaN   845.560798   \n",
       "max     293785.000000          NaN                 NaN    NaN  1969.000000   \n",
       "\n",
       "         Percentage  It became a relationship  \n",
       "count   1896.000000               1896.000000  \n",
       "unique          NaN                       NaN  \n",
       "top             NaN                       NaN  \n",
       "freq            NaN                       NaN  \n",
       "mean       0.254098                  0.350738  \n",
       "std        0.220809                  0.477327  \n",
       "min        0.000000                  0.000000  \n",
       "25%        0.000000                  0.000000  \n",
       "50%        0.257873                  0.000000  \n",
       "75%        0.396787                  1.000000  \n",
       "max        1.000000                  1.000000  "
      ]
     },
     "execution_count": 5,
     "metadata": {},
     "output_type": "execute_result"
    }
   ],
   "source": [
    "# locking for decription of data\n",
    "df.describe(include = 'all')"
   ]
  },
  {
   "cell_type": "markdown",
   "metadata": {},
   "source": [
    "'Answer' column tells the answer to question 'Do you use tinder ?' which can possibly have two answers 'Yes' or 'No' but it can be seen that there are 3 unique values in the 'Answer' Column. We can analyse this and try to correct it."
   ]
  },
  {
   "cell_type": "code",
   "execution_count": 6,
   "metadata": {},
   "outputs": [
    {
     "data": {
      "text/plain": [
       "array(['No', 'Yes', \"I don't use Tinder\"], dtype=object)"
      ]
     },
     "execution_count": 6,
     "metadata": {},
     "output_type": "execute_result"
    }
   ],
   "source": [
    "# Looking at unique values in 'Answers' Column\n",
    "df['Answer'].unique()"
   ]
  },
  {
   "cell_type": "markdown",
   "metadata": {},
   "source": [
    "3 unique values are 'No', 'Yes', and 'I don't use Tinder'. 'I don't use Tinder' is same as 'No' so it can be replaced by 'No'."
   ]
  },
  {
   "cell_type": "code",
   "execution_count": 7,
   "metadata": {},
   "outputs": [
    {
     "data": {
      "text/plain": [
       "array(['No', 'Yes'], dtype=object)"
      ]
     },
     "execution_count": 7,
     "metadata": {},
     "output_type": "execute_result"
    }
   ],
   "source": [
    "# replacing 'I don't use Tinder' with 'No'\n",
    "df['Answer'] = df['Answer'].replace(\"I don't use Tinder\", \"No\")\n",
    "df['Answer'].unique()"
   ]
  },
  {
   "cell_type": "markdown",
   "metadata": {},
   "source": [
    "Now, other columns can be analyzed for possible issues in data"
   ]
  },
  {
   "cell_type": "code",
   "execution_count": 8,
   "metadata": {},
   "outputs": [
    {
     "data": {
      "text/plain": [
       "array(['web', 'gender', 'university', 'mobile'], dtype=object)"
      ]
     },
     "execution_count": 8,
     "metadata": {},
     "output_type": "execute_result"
    }
   ],
   "source": [
    "# unique values in 'Segment Type' column\n",
    "df['Segment type'].unique()"
   ]
  },
  {
   "cell_type": "code",
   "execution_count": 9,
   "metadata": {},
   "outputs": [
    {
     "data": {
      "text/plain": [
       "(148,)"
      ]
     },
     "execution_count": 9,
     "metadata": {},
     "output_type": "execute_result"
    }
   ],
   "source": [
    "# unique values in 'Segment Description' column\n",
    "df['Segment Description'].unique().shape"
   ]
  },
  {
   "cell_type": "code",
   "execution_count": 10,
   "metadata": {},
   "outputs": [
    {
     "name": "stdout",
     "output_type": "stream",
     "text": [
      "max percentage =  1.0\n",
      "min percentage =  0.0\n"
     ]
    }
   ],
   "source": [
    "# Checking Percent Column\n",
    "print(\"max percentage = \", df['Percentage'].max())\n",
    "print(\"min percentage = \", df['Percentage'].min())"
   ]
  },
  {
   "cell_type": "code",
   "execution_count": 11,
   "metadata": {},
   "outputs": [
    {
     "data": {
      "text/plain": [
       "array(['0', '1'], dtype=object)"
      ]
     },
     "execution_count": 11,
     "metadata": {},
     "output_type": "execute_result"
    }
   ],
   "source": [
    "# checking for discrepancies in 'It Became a relationship' data\n",
    "df['It became a relationship'].astype('str').unique()"
   ]
  },
  {
   "cell_type": "markdown",
   "metadata": {},
   "source": [
    "Rest of column do not have any issue and we can now proceed to convert the object to numerical data so that machine learning algorithms can work on it."
   ]
  },
  {
   "cell_type": "markdown",
   "metadata": {},
   "source": [
    "## 2. Encoding Data"
   ]
  },
  {
   "cell_type": "markdown",
   "metadata": {},
   "source": [
    "For 'Segment Type' column we can use one hot encoding. This will give us four columns and we can keep three columns and drop one column so if three columns are zero implies the fourth column, which is droped, is one."
   ]
  },
  {
   "cell_type": "code",
   "execution_count": 12,
   "metadata": {},
   "outputs": [
    {
     "data": {
      "text/html": [
       "<div>\n",
       "<style scoped>\n",
       "    .dataframe tbody tr th:only-of-type {\n",
       "        vertical-align: middle;\n",
       "    }\n",
       "\n",
       "    .dataframe tbody tr th {\n",
       "        vertical-align: top;\n",
       "    }\n",
       "\n",
       "    .dataframe thead th {\n",
       "        text-align: right;\n",
       "    }\n",
       "</style>\n",
       "<table border=\"1\" class=\"dataframe\">\n",
       "  <thead>\n",
       "    <tr style=\"text-align: right;\">\n",
       "      <th></th>\n",
       "      <th>ID</th>\n",
       "      <th>Segment Description</th>\n",
       "      <th>Answer</th>\n",
       "      <th>Count</th>\n",
       "      <th>Percentage</th>\n",
       "      <th>It became a relationship</th>\n",
       "      <th>Segment type_gender</th>\n",
       "      <th>Segment type_mobile</th>\n",
       "      <th>Segment type_university</th>\n",
       "    </tr>\n",
       "  </thead>\n",
       "  <tbody>\n",
       "    <tr>\n",
       "      <th>370</th>\n",
       "      <td>292884.7557</td>\n",
       "      <td>Meridian, Idaho</td>\n",
       "      <td>No</td>\n",
       "      <td>1072.103989</td>\n",
       "      <td>0.278358</td>\n",
       "      <td>1</td>\n",
       "      <td>0.0</td>\n",
       "      <td>1.0</td>\n",
       "      <td>0.0</td>\n",
       "    </tr>\n",
       "    <tr>\n",
       "      <th>179</th>\n",
       "      <td>292895.4868</td>\n",
       "      <td>Meridian, Idaho</td>\n",
       "      <td>No</td>\n",
       "      <td>535.412676</td>\n",
       "      <td>0.241598</td>\n",
       "      <td>0</td>\n",
       "      <td>1.0</td>\n",
       "      <td>0.0</td>\n",
       "      <td>0.0</td>\n",
       "    </tr>\n",
       "    <tr>\n",
       "      <th>52</th>\n",
       "      <td>292889.6677</td>\n",
       "      <td>Meridian, Idaho</td>\n",
       "      <td>No</td>\n",
       "      <td>0.000000</td>\n",
       "      <td>0.000000</td>\n",
       "      <td>0</td>\n",
       "      <td>0.0</td>\n",
       "      <td>0.0</td>\n",
       "      <td>0.0</td>\n",
       "    </tr>\n",
       "    <tr>\n",
       "      <th>1422</th>\n",
       "      <td>293063.0000</td>\n",
       "      <td>University of Oregon</td>\n",
       "      <td>No</td>\n",
       "      <td>4.000000</td>\n",
       "      <td>0.800000</td>\n",
       "      <td>0</td>\n",
       "      <td>0.0</td>\n",
       "      <td>0.0</td>\n",
       "      <td>1.0</td>\n",
       "    </tr>\n",
       "    <tr>\n",
       "      <th>1162</th>\n",
       "      <td>292888.7449</td>\n",
       "      <td>Meridian, Idaho</td>\n",
       "      <td>No</td>\n",
       "      <td>1029.097571</td>\n",
       "      <td>0.304126</td>\n",
       "      <td>1</td>\n",
       "      <td>1.0</td>\n",
       "      <td>0.0</td>\n",
       "      <td>0.0</td>\n",
       "    </tr>\n",
       "  </tbody>\n",
       "</table>\n",
       "</div>"
      ],
      "text/plain": [
       "               ID   Segment Description Answer        Count  Percentage  \\\n",
       "370   292884.7557       Meridian, Idaho     No  1072.103989    0.278358   \n",
       "179   292895.4868       Meridian, Idaho     No   535.412676    0.241598   \n",
       "52    292889.6677       Meridian, Idaho     No     0.000000    0.000000   \n",
       "1422  293063.0000  University of Oregon     No     4.000000    0.800000   \n",
       "1162  292888.7449       Meridian, Idaho     No  1029.097571    0.304126   \n",
       "\n",
       "      It became a relationship  Segment type_gender  Segment type_mobile  \\\n",
       "370                          1                  0.0                  1.0   \n",
       "179                          0                  1.0                  0.0   \n",
       "52                           0                  0.0                  0.0   \n",
       "1422                         0                  0.0                  0.0   \n",
       "1162                         1                  1.0                  0.0   \n",
       "\n",
       "      Segment type_university  \n",
       "370                       0.0  \n",
       "179                       0.0  \n",
       "52                        0.0  \n",
       "1422                      1.0  \n",
       "1162                      0.0  "
      ]
     },
     "execution_count": 12,
     "metadata": {},
     "output_type": "execute_result"
    }
   ],
   "source": [
    "# Seperating the dependent and independent variables\n",
    "df_modified = pd.get_dummies(data = df, columns= ['Segment type'], dtype = 'float64')\n",
    "df_modified.drop(['Segment type_web'], inplace=True, axis = 1)\n",
    "df_modified.sample(5)"
   ]
  },
  {
   "cell_type": "markdown",
   "metadata": {},
   "source": [
    "For 'Segment Description' Column using one hot encoding will give two many columns as there are 148 unique values so we'll use Label encondin."
   ]
  },
  {
   "cell_type": "code",
   "execution_count": 13,
   "metadata": {},
   "outputs": [
    {
     "data": {
      "text/html": [
       "<div>\n",
       "<style scoped>\n",
       "    .dataframe tbody tr th:only-of-type {\n",
       "        vertical-align: middle;\n",
       "    }\n",
       "\n",
       "    .dataframe tbody tr th {\n",
       "        vertical-align: top;\n",
       "    }\n",
       "\n",
       "    .dataframe thead th {\n",
       "        text-align: right;\n",
       "    }\n",
       "</style>\n",
       "<table border=\"1\" class=\"dataframe\">\n",
       "  <thead>\n",
       "    <tr style=\"text-align: right;\">\n",
       "      <th></th>\n",
       "      <th>ID</th>\n",
       "      <th>Segment Description</th>\n",
       "      <th>Answer</th>\n",
       "      <th>Count</th>\n",
       "      <th>Percentage</th>\n",
       "      <th>It became a relationship</th>\n",
       "      <th>Segment type_gender</th>\n",
       "      <th>Segment type_mobile</th>\n",
       "      <th>Segment type_university</th>\n",
       "    </tr>\n",
       "  </thead>\n",
       "  <tbody>\n",
       "    <tr>\n",
       "      <th>631</th>\n",
       "      <td>292887.5715</td>\n",
       "      <td>46</td>\n",
       "      <td>No</td>\n",
       "      <td>0.000000</td>\n",
       "      <td>0.000000</td>\n",
       "      <td>0</td>\n",
       "      <td>0.0</td>\n",
       "      <td>0.0</td>\n",
       "      <td>0.0</td>\n",
       "    </tr>\n",
       "    <tr>\n",
       "      <th>470</th>\n",
       "      <td>292894.5708</td>\n",
       "      <td>46</td>\n",
       "      <td>No</td>\n",
       "      <td>795.038609</td>\n",
       "      <td>0.395337</td>\n",
       "      <td>1</td>\n",
       "      <td>0.0</td>\n",
       "      <td>1.0</td>\n",
       "      <td>0.0</td>\n",
       "    </tr>\n",
       "    <tr>\n",
       "      <th>520</th>\n",
       "      <td>292890.0483</td>\n",
       "      <td>46</td>\n",
       "      <td>No</td>\n",
       "      <td>0.000000</td>\n",
       "      <td>0.000000</td>\n",
       "      <td>0</td>\n",
       "      <td>0.0</td>\n",
       "      <td>0.0</td>\n",
       "      <td>0.0</td>\n",
       "    </tr>\n",
       "    <tr>\n",
       "      <th>1306</th>\n",
       "      <td>292900.7553</td>\n",
       "      <td>46</td>\n",
       "      <td>No</td>\n",
       "      <td>506.123455</td>\n",
       "      <td>0.292104</td>\n",
       "      <td>0</td>\n",
       "      <td>1.0</td>\n",
       "      <td>0.0</td>\n",
       "      <td>0.0</td>\n",
       "    </tr>\n",
       "    <tr>\n",
       "      <th>1264</th>\n",
       "      <td>292901.8495</td>\n",
       "      <td>46</td>\n",
       "      <td>No</td>\n",
       "      <td>510.937883</td>\n",
       "      <td>0.303265</td>\n",
       "      <td>0</td>\n",
       "      <td>1.0</td>\n",
       "      <td>0.0</td>\n",
       "      <td>0.0</td>\n",
       "    </tr>\n",
       "  </tbody>\n",
       "</table>\n",
       "</div>"
      ],
      "text/plain": [
       "               ID  Segment Description Answer       Count  Percentage  \\\n",
       "631   292887.5715                   46     No    0.000000    0.000000   \n",
       "470   292894.5708                   46     No  795.038609    0.395337   \n",
       "520   292890.0483                   46     No    0.000000    0.000000   \n",
       "1306  292900.7553                   46     No  506.123455    0.292104   \n",
       "1264  292901.8495                   46     No  510.937883    0.303265   \n",
       "\n",
       "      It became a relationship  Segment type_gender  Segment type_mobile  \\\n",
       "631                          0                  0.0                  0.0   \n",
       "470                          1                  0.0                  1.0   \n",
       "520                          0                  0.0                  0.0   \n",
       "1306                         0                  1.0                  0.0   \n",
       "1264                         0                  1.0                  0.0   \n",
       "\n",
       "      Segment type_university  \n",
       "631                       0.0  \n",
       "470                       0.0  \n",
       "520                       0.0  \n",
       "1306                      0.0  \n",
       "1264                      0.0  "
      ]
     },
     "execution_count": 13,
     "metadata": {},
     "output_type": "execute_result"
    }
   ],
   "source": [
    "# label endcoding\n",
    "df_modified['Segment Description'] = df_modified['Segment Description'].astype('category')\n",
    "df_modified['Segment Description'] = df_modified['Segment Description'].cat.codes\n",
    "df_modified.sample(5)"
   ]
  },
  {
   "cell_type": "markdown",
   "metadata": {},
   "source": [
    "'Answer' Column has 2 unique values so it can be one hot encoded and then column representing 'No' can be droped which will be represented by 0 in column representing 'Yes'."
   ]
  },
  {
   "cell_type": "code",
   "execution_count": 14,
   "metadata": {},
   "outputs": [
    {
     "data": {
      "text/html": [
       "<div>\n",
       "<style scoped>\n",
       "    .dataframe tbody tr th:only-of-type {\n",
       "        vertical-align: middle;\n",
       "    }\n",
       "\n",
       "    .dataframe tbody tr th {\n",
       "        vertical-align: top;\n",
       "    }\n",
       "\n",
       "    .dataframe thead th {\n",
       "        text-align: right;\n",
       "    }\n",
       "</style>\n",
       "<table border=\"1\" class=\"dataframe\">\n",
       "  <thead>\n",
       "    <tr style=\"text-align: right;\">\n",
       "      <th></th>\n",
       "      <th>ID</th>\n",
       "      <th>Segment Description</th>\n",
       "      <th>Count</th>\n",
       "      <th>Percentage</th>\n",
       "      <th>It became a relationship</th>\n",
       "      <th>Segment type_gender</th>\n",
       "      <th>Segment type_mobile</th>\n",
       "      <th>Segment type_university</th>\n",
       "      <th>Answer_Yes</th>\n",
       "    </tr>\n",
       "  </thead>\n",
       "  <tbody>\n",
       "    <tr>\n",
       "      <th>1436</th>\n",
       "      <td>292901.7122</td>\n",
       "      <td>46</td>\n",
       "      <td>454.509347</td>\n",
       "      <td>0.277333</td>\n",
       "      <td>0</td>\n",
       "      <td>1.0</td>\n",
       "      <td>0.0</td>\n",
       "      <td>0.0</td>\n",
       "      <td>0.0</td>\n",
       "    </tr>\n",
       "    <tr>\n",
       "      <th>1678</th>\n",
       "      <td>293641.9748</td>\n",
       "      <td>134</td>\n",
       "      <td>1.658270</td>\n",
       "      <td>0.236718</td>\n",
       "      <td>1</td>\n",
       "      <td>0.0</td>\n",
       "      <td>0.0</td>\n",
       "      <td>1.0</td>\n",
       "      <td>1.0</td>\n",
       "    </tr>\n",
       "    <tr>\n",
       "      <th>1353</th>\n",
       "      <td>293039.0000</td>\n",
       "      <td>96</td>\n",
       "      <td>34.000000</td>\n",
       "      <td>0.453000</td>\n",
       "      <td>0</td>\n",
       "      <td>0.0</td>\n",
       "      <td>0.0</td>\n",
       "      <td>1.0</td>\n",
       "      <td>0.0</td>\n",
       "    </tr>\n",
       "    <tr>\n",
       "      <th>247</th>\n",
       "      <td>293181.0000</td>\n",
       "      <td>105</td>\n",
       "      <td>1.000000</td>\n",
       "      <td>1.000000</td>\n",
       "      <td>1</td>\n",
       "      <td>0.0</td>\n",
       "      <td>0.0</td>\n",
       "      <td>1.0</td>\n",
       "      <td>1.0</td>\n",
       "    </tr>\n",
       "    <tr>\n",
       "      <th>1825</th>\n",
       "      <td>292881.2802</td>\n",
       "      <td>46</td>\n",
       "      <td>817.522362</td>\n",
       "      <td>0.212323</td>\n",
       "      <td>1</td>\n",
       "      <td>0.0</td>\n",
       "      <td>1.0</td>\n",
       "      <td>0.0</td>\n",
       "      <td>0.0</td>\n",
       "    </tr>\n",
       "  </tbody>\n",
       "</table>\n",
       "</div>"
      ],
      "text/plain": [
       "               ID  Segment Description       Count  Percentage  \\\n",
       "1436  292901.7122                   46  454.509347    0.277333   \n",
       "1678  293641.9748                  134    1.658270    0.236718   \n",
       "1353  293039.0000                   96   34.000000    0.453000   \n",
       "247   293181.0000                  105    1.000000    1.000000   \n",
       "1825  292881.2802                   46  817.522362    0.212323   \n",
       "\n",
       "      It became a relationship  Segment type_gender  Segment type_mobile  \\\n",
       "1436                         0                  1.0                  0.0   \n",
       "1678                         1                  0.0                  0.0   \n",
       "1353                         0                  0.0                  0.0   \n",
       "247                          1                  0.0                  0.0   \n",
       "1825                         1                  0.0                  1.0   \n",
       "\n",
       "      Segment type_university  Answer_Yes  \n",
       "1436                      0.0         0.0  \n",
       "1678                      1.0         1.0  \n",
       "1353                      1.0         0.0  \n",
       "247                       1.0         1.0  \n",
       "1825                      0.0         0.0  "
      ]
     },
     "execution_count": 14,
     "metadata": {},
     "output_type": "execute_result"
    }
   ],
   "source": [
    "# One hot encoding of 'Answer' Column\n",
    "df_modified = pd.get_dummies(data = df_modified, columns = ['Answer'], dtype = 'float64')\n",
    "df_modified = df_modified.drop(['Answer_No'], axis = 1)\n",
    "df_modified.sample(5)"
   ]
  },
  {
   "cell_type": "code",
   "execution_count": 15,
   "metadata": {},
   "outputs": [
    {
     "name": "stdout",
     "output_type": "stream",
     "text": [
      "<class 'pandas.core.frame.DataFrame'>\n",
      "RangeIndex: 1896 entries, 0 to 1895\n",
      "Data columns (total 9 columns):\n",
      " #   Column                    Non-Null Count  Dtype  \n",
      "---  ------                    --------------  -----  \n",
      " 0   ID                        1896 non-null   float64\n",
      " 1   Segment Description       1896 non-null   int16  \n",
      " 2   Count                     1896 non-null   float64\n",
      " 3   Percentage                1896 non-null   float64\n",
      " 4   It became a relationship  1896 non-null   int64  \n",
      " 5   Segment type_gender       1896 non-null   float64\n",
      " 6   Segment type_mobile       1896 non-null   float64\n",
      " 7   Segment type_university   1896 non-null   float64\n",
      " 8   Answer_Yes                1896 non-null   float64\n",
      "dtypes: float64(7), int16(1), int64(1)\n",
      "memory usage: 122.3 KB\n"
     ]
    }
   ],
   "source": [
    "df_modified.info()"
   ]
  },
  {
   "cell_type": "markdown",
   "metadata": {},
   "source": [
    "Lastly before going to machine learning part we can rearrange data so that dependent variable is last column."
   ]
  },
  {
   "cell_type": "code",
   "execution_count": 16,
   "metadata": {},
   "outputs": [
    {
     "data": {
      "text/html": [
       "<div>\n",
       "<style scoped>\n",
       "    .dataframe tbody tr th:only-of-type {\n",
       "        vertical-align: middle;\n",
       "    }\n",
       "\n",
       "    .dataframe tbody tr th {\n",
       "        vertical-align: top;\n",
       "    }\n",
       "\n",
       "    .dataframe thead th {\n",
       "        text-align: right;\n",
       "    }\n",
       "</style>\n",
       "<table border=\"1\" class=\"dataframe\">\n",
       "  <thead>\n",
       "    <tr style=\"text-align: right;\">\n",
       "      <th></th>\n",
       "      <th>ID</th>\n",
       "      <th>Segment Description</th>\n",
       "      <th>Count</th>\n",
       "      <th>Percentage</th>\n",
       "      <th>Segment type_gender</th>\n",
       "      <th>Segment type_mobile</th>\n",
       "      <th>Segment type_university</th>\n",
       "      <th>Answer_Yes</th>\n",
       "      <th>It became a relationship</th>\n",
       "    </tr>\n",
       "  </thead>\n",
       "  <tbody>\n",
       "    <tr>\n",
       "      <th>0</th>\n",
       "      <td>292890.8970</td>\n",
       "      <td>46</td>\n",
       "      <td>0.000000</td>\n",
       "      <td>0.000000</td>\n",
       "      <td>0.0</td>\n",
       "      <td>0.0</td>\n",
       "      <td>0.0</td>\n",
       "      <td>0.0</td>\n",
       "      <td>0</td>\n",
       "    </tr>\n",
       "    <tr>\n",
       "      <th>1</th>\n",
       "      <td>292887.9870</td>\n",
       "      <td>46</td>\n",
       "      <td>0.000000</td>\n",
       "      <td>0.000000</td>\n",
       "      <td>0.0</td>\n",
       "      <td>0.0</td>\n",
       "      <td>0.0</td>\n",
       "      <td>0.0</td>\n",
       "      <td>0</td>\n",
       "    </tr>\n",
       "    <tr>\n",
       "      <th>2</th>\n",
       "      <td>292894.0656</td>\n",
       "      <td>46</td>\n",
       "      <td>499.173606</td>\n",
       "      <td>0.225255</td>\n",
       "      <td>1.0</td>\n",
       "      <td>0.0</td>\n",
       "      <td>0.0</td>\n",
       "      <td>0.0</td>\n",
       "      <td>0</td>\n",
       "    </tr>\n",
       "    <tr>\n",
       "      <th>3</th>\n",
       "      <td>292887.1180</td>\n",
       "      <td>46</td>\n",
       "      <td>0.000000</td>\n",
       "      <td>0.000000</td>\n",
       "      <td>0.0</td>\n",
       "      <td>0.0</td>\n",
       "      <td>0.0</td>\n",
       "      <td>0.0</td>\n",
       "      <td>0</td>\n",
       "    </tr>\n",
       "    <tr>\n",
       "      <th>4</th>\n",
       "      <td>292893.6561</td>\n",
       "      <td>46</td>\n",
       "      <td>455.925963</td>\n",
       "      <td>0.211360</td>\n",
       "      <td>1.0</td>\n",
       "      <td>0.0</td>\n",
       "      <td>0.0</td>\n",
       "      <td>0.0</td>\n",
       "      <td>0</td>\n",
       "    </tr>\n",
       "  </tbody>\n",
       "</table>\n",
       "</div>"
      ],
      "text/plain": [
       "            ID  Segment Description       Count  Percentage  \\\n",
       "0  292890.8970                   46    0.000000    0.000000   \n",
       "1  292887.9870                   46    0.000000    0.000000   \n",
       "2  292894.0656                   46  499.173606    0.225255   \n",
       "3  292887.1180                   46    0.000000    0.000000   \n",
       "4  292893.6561                   46  455.925963    0.211360   \n",
       "\n",
       "   Segment type_gender  Segment type_mobile  Segment type_university  \\\n",
       "0                  0.0                  0.0                      0.0   \n",
       "1                  0.0                  0.0                      0.0   \n",
       "2                  1.0                  0.0                      0.0   \n",
       "3                  0.0                  0.0                      0.0   \n",
       "4                  1.0                  0.0                      0.0   \n",
       "\n",
       "   Answer_Yes  It became a relationship  \n",
       "0         0.0                         0  \n",
       "1         0.0                         0  \n",
       "2         0.0                         0  \n",
       "3         0.0                         0  \n",
       "4         0.0                         0  "
      ]
     },
     "execution_count": 16,
     "metadata": {},
     "output_type": "execute_result"
    }
   ],
   "source": [
    "# rearranging columns\n",
    "output = df_modified['It became a relationship']\n",
    "df_modified.drop(labels=['It became a relationship'], inplace = True, axis = 1)\n",
    "df_modified.insert(8, 'It became a relationship', output)\n",
    "df_modified.head()"
   ]
  },
  {
   "cell_type": "markdown",
   "metadata": {},
   "source": [
    "## 3. Splitting Data"
   ]
  },
  {
   "cell_type": "markdown",
   "metadata": {},
   "source": [
    "It is clear that the ID will not have any effect on the output so it is not included in independent variables"
   ]
  },
  {
   "cell_type": "code",
   "execution_count": 17,
   "metadata": {},
   "outputs": [],
   "source": [
    "# Loading Module\n",
    "from sklearn.model_selection import train_test_split"
   ]
  },
  {
   "cell_type": "code",
   "execution_count": 18,
   "metadata": {},
   "outputs": [
    {
     "data": {
      "text/html": [
       "<div>\n",
       "<style scoped>\n",
       "    .dataframe tbody tr th:only-of-type {\n",
       "        vertical-align: middle;\n",
       "    }\n",
       "\n",
       "    .dataframe tbody tr th {\n",
       "        vertical-align: top;\n",
       "    }\n",
       "\n",
       "    .dataframe thead th {\n",
       "        text-align: right;\n",
       "    }\n",
       "</style>\n",
       "<table border=\"1\" class=\"dataframe\">\n",
       "  <thead>\n",
       "    <tr style=\"text-align: right;\">\n",
       "      <th></th>\n",
       "      <th>Segment Description</th>\n",
       "      <th>Count</th>\n",
       "      <th>Percentage</th>\n",
       "      <th>Segment type_gender</th>\n",
       "      <th>Segment type_mobile</th>\n",
       "      <th>Segment type_university</th>\n",
       "      <th>Answer_Yes</th>\n",
       "    </tr>\n",
       "  </thead>\n",
       "  <tbody>\n",
       "    <tr>\n",
       "      <th>0</th>\n",
       "      <td>46</td>\n",
       "      <td>0.000000</td>\n",
       "      <td>0.000000</td>\n",
       "      <td>0.0</td>\n",
       "      <td>0.0</td>\n",
       "      <td>0.0</td>\n",
       "      <td>0.0</td>\n",
       "    </tr>\n",
       "    <tr>\n",
       "      <th>1</th>\n",
       "      <td>46</td>\n",
       "      <td>0.000000</td>\n",
       "      <td>0.000000</td>\n",
       "      <td>0.0</td>\n",
       "      <td>0.0</td>\n",
       "      <td>0.0</td>\n",
       "      <td>0.0</td>\n",
       "    </tr>\n",
       "    <tr>\n",
       "      <th>2</th>\n",
       "      <td>46</td>\n",
       "      <td>499.173606</td>\n",
       "      <td>0.225255</td>\n",
       "      <td>1.0</td>\n",
       "      <td>0.0</td>\n",
       "      <td>0.0</td>\n",
       "      <td>0.0</td>\n",
       "    </tr>\n",
       "    <tr>\n",
       "      <th>3</th>\n",
       "      <td>46</td>\n",
       "      <td>0.000000</td>\n",
       "      <td>0.000000</td>\n",
       "      <td>0.0</td>\n",
       "      <td>0.0</td>\n",
       "      <td>0.0</td>\n",
       "      <td>0.0</td>\n",
       "    </tr>\n",
       "    <tr>\n",
       "      <th>4</th>\n",
       "      <td>46</td>\n",
       "      <td>455.925963</td>\n",
       "      <td>0.211360</td>\n",
       "      <td>1.0</td>\n",
       "      <td>0.0</td>\n",
       "      <td>0.0</td>\n",
       "      <td>0.0</td>\n",
       "    </tr>\n",
       "  </tbody>\n",
       "</table>\n",
       "</div>"
      ],
      "text/plain": [
       "   Segment Description       Count  Percentage  Segment type_gender  \\\n",
       "0                   46    0.000000    0.000000                  0.0   \n",
       "1                   46    0.000000    0.000000                  0.0   \n",
       "2                   46  499.173606    0.225255                  1.0   \n",
       "3                   46    0.000000    0.000000                  0.0   \n",
       "4                   46  455.925963    0.211360                  1.0   \n",
       "\n",
       "   Segment type_mobile  Segment type_university  Answer_Yes  \n",
       "0                  0.0                      0.0         0.0  \n",
       "1                  0.0                      0.0         0.0  \n",
       "2                  0.0                      0.0         0.0  \n",
       "3                  0.0                      0.0         0.0  \n",
       "4                  0.0                      0.0         0.0  "
      ]
     },
     "execution_count": 18,
     "metadata": {},
     "output_type": "execute_result"
    }
   ],
   "source": [
    "# Spliting Data to dependent and independent variables\n",
    "x = df_modified.iloc[:, 1:-1]\n",
    "x.head()"
   ]
  },
  {
   "cell_type": "code",
   "execution_count": 19,
   "metadata": {},
   "outputs": [
    {
     "data": {
      "text/plain": [
       "0    0\n",
       "1    0\n",
       "2    0\n",
       "3    0\n",
       "4    0\n",
       "Name: It became a relationship, dtype: int64"
      ]
     },
     "execution_count": 19,
     "metadata": {},
     "output_type": "execute_result"
    }
   ],
   "source": [
    "y = df_modified.iloc[:, -1]\n",
    "y.head()"
   ]
  },
  {
   "cell_type": "code",
   "execution_count": 20,
   "metadata": {},
   "outputs": [
    {
     "name": "stdout",
     "output_type": "stream",
     "text": [
      "For x_train, number of rows = 1327, number of columns = 7\n",
      "For x_test, number of rows = 569, number of columns = 7\n",
      "For y_train, number of rows = 1327\n",
      "For y_test, number of rows = 569\n"
     ]
    }
   ],
   "source": [
    "x_train, x_test, y_train, y_test = train_test_split(x, y, test_size = 0.3)\n",
    "print(\"For x_train, number of rows = %d, number of columns = %d\"% x_train.shape)\n",
    "print(\"For x_test, number of rows = %d, number of columns = %d\"% x_test.shape)\n",
    "print(\"For y_train, number of rows = %d\"% y_train.shape)\n",
    "print(\"For y_test, number of rows = %d\"% y_test.shape)"
   ]
  },
  {
   "cell_type": "markdown",
   "metadata": {},
   "source": [
    "## 4. Model 1 - Random Forest Classifier"
   ]
  },
  {
   "cell_type": "code",
   "execution_count": 21,
   "metadata": {},
   "outputs": [],
   "source": [
    "# Loading modules for training\n",
    "\n",
    "from sklearn.ensemble import RandomForestClassifier"
   ]
  },
  {
   "cell_type": "markdown",
   "metadata": {},
   "source": [
    "### Random Forest Classifier - Parameter Selection\n",
    "During Parameter Selection the random state is set to a single randomly selected number and after that the random state will be set to default i.e. None."
   ]
  },
  {
   "cell_type": "code",
   "execution_count": 22,
   "metadata": {},
   "outputs": [],
   "source": [
    "state = np.random.randint(10000)"
   ]
  },
  {
   "cell_type": "code",
   "execution_count": 23,
   "metadata": {},
   "outputs": [
    {
     "data": {
      "image/png": "[encoded data removed]",
      "text/plain": [
       "<Figure size 432x288 with 1 Axes>"
      ]
     },
     "metadata": {
      "needs_background": "light"
     },
     "output_type": "display_data"
    }
   ],
   "source": [
    "# checking with different number of estimators\n",
    "performance_train = []\n",
    "performance_test = []\n",
    "for i in range(2, 51):\n",
    "    model = RandomForestClassifier(n_estimators = i, criterion = 'gini', max_depth = 3, max_features = 3, random_state = state)\n",
    "    model.fit(x_train, y_train)\n",
    "    performance_train.append(model.score(x_train, y_train))\n",
    "    performance_test.append(model.score(x_test, y_test))\n",
    "\n",
    "plt.figure()\n",
    "plt.plot(np.arange(2, 51), performance_train, label = 'training score')\n",
    "plt.plot(np.arange(2, 51), performance_test, label = 'testing score')\n",
    "plt.xlabel('n_estimators')\n",
    "plt.ylabel('score')\n",
    "plt.title('n_estimators vs score')\n",
    "plt.legend()\n",
    "plt.show()"
   ]
  },
  {
   "cell_type": "code",
   "execution_count": 24,
   "metadata": {},
   "outputs": [
    {
     "name": "stdout",
     "output_type": "stream",
     "text": [
      "maximum testing score is = 0.884007, for n_estimators = 43\n"
     ]
    }
   ],
   "source": [
    "sel_estimators = np.argmax(performance_test) + 2\n",
    "print(\"maximum testing score is = %f, for n_estimators = %d\"%(max(performance_test), sel_estimators))"
   ]
  },
  {
   "cell_type": "code",
   "execution_count": 25,
   "metadata": {},
   "outputs": [
    {
     "data": {
      "image/png": "[encoded data removed]",
      "text/plain": [
       "<Figure size 432x288 with 1 Axes>"
      ]
     },
     "metadata": {
      "needs_background": "light"
     },
     "output_type": "display_data"
    }
   ],
   "source": [
    "# checking with different max_depth\n",
    "performance_train = []\n",
    "performance_test = []\n",
    "for i in range(2, 16):\n",
    "    model = RandomForestClassifier(n_estimators = sel_estimators, criterion = 'gini', max_depth = i, max_features = 3, random_state = state)\n",
    "    model.fit(x_train, y_train)\n",
    "    performance_train.append(model.score(x_train, y_train))\n",
    "    performance_test.append(model.score(x_test, y_test))\n",
    "\n",
    "plt.figure()\n",
    "plt.plot(np.arange(2, 16), performance_train, label = 'training score')\n",
    "plt.plot(np.arange(2, 16), performance_test, label = 'testing score')\n",
    "plt.xlabel('max_depth')\n",
    "plt.ylabel('score')\n",
    "plt.title('max_depth vs score')\n",
    "plt.legend()\n",
    "plt.show()"
   ]
  },
  {
   "cell_type": "code",
   "execution_count": 26,
   "metadata": {},
   "outputs": [
    {
     "name": "stdout",
     "output_type": "stream",
     "text": [
      "maximum testing score is = 0.931459, for max_depth = 6\n"
     ]
    }
   ],
   "source": [
    "sel_depth = np.argmax(performance_test) + 2\n",
    "print(\"maximum testing score is = %f, for max_depth = %d\"%(max(performance_test), sel_depth))"
   ]
  },
  {
   "cell_type": "code",
   "execution_count": 27,
   "metadata": {},
   "outputs": [
    {
     "data": {
      "image/png": "[encoded data removed]",
      "text/plain": [
       "<Figure size 432x288 with 1 Axes>"
      ]
     },
     "metadata": {
      "needs_background": "light"
     },
     "output_type": "display_data"
    }
   ],
   "source": [
    "# checking with different max_features\n",
    "performance_train = []\n",
    "performance_test = []\n",
    "for i in range(2, 8):\n",
    "    model = RandomForestClassifier(n_estimators = sel_estimators, criterion = 'gini', max_depth = sel_depth, max_features = i, random_state = state)\n",
    "    model.fit(x_train, y_train)\n",
    "    performance_train.append(model.score(x_train, y_train))\n",
    "    performance_test.append(model.score(x_test, y_test))\n",
    "\n",
    "plt.figure()\n",
    "plt.plot(np.arange(2, 8), performance_train, label = 'training score')\n",
    "plt.plot(np.arange(2, 8), performance_test, label = 'testing score')\n",
    "plt.xlabel('max_features')\n",
    "plt.ylabel('score')\n",
    "plt.title('max_features vs score')\n",
    "plt.legend()\n",
    "plt.show()"
   ]
  },
  {
   "cell_type": "code",
   "execution_count": 28,
   "metadata": {},
   "outputs": [
    {
     "name": "stdout",
     "output_type": "stream",
     "text": [
      "maximum testing score is = 0.931459, for max_feature = 3\n"
     ]
    }
   ],
   "source": [
    "sel_features = np.argmax(performance_test) + 2\n",
    "print(\"maximum testing score is = %f, for max_feature = %d\"%(max(performance_test), sel_features))"
   ]
  },
  {
   "cell_type": "code",
   "execution_count": 29,
   "metadata": {},
   "outputs": [
    {
     "name": "stdout",
     "output_type": "stream",
     "text": [
      "For criterion = 'gini'\n",
      "\tTraining score =  0.9359457422758101\n",
      "\tTesting score =  0.9314586994727593\n",
      "\n",
      "For criterion = 'entropy'\n",
      "\tTraining score =  0.9284099472494348\n",
      "\tTesting score =  0.9279437609841827\n"
     ]
    }
   ],
   "source": [
    "# Selecting Criterion\n",
    "model = RandomForestClassifier(n_estimators = sel_estimators, max_depth = sel_depth, max_features = sel_features, criterion = 'gini', random_state = state)\n",
    "model.fit(x_train, y_train)\n",
    "s1 = model.score(x_test, y_test)\n",
    "print(\"For criterion = 'gini'\")\n",
    "print(\"\\tTraining score = \", model.score(x_train, y_train))\n",
    "print(\"\\tTesting score = \", s1)\n",
    "sel_criterion = 'gini'\n",
    "\n",
    "model = RandomForestClassifier(n_estimators = sel_estimators, max_depth = sel_depth, max_features = sel_features, criterion = 'entropy', random_state = state)\n",
    "model.fit(x_train, y_train)\n",
    "s2 = model.score(x_test, y_test)\n",
    "print(\"\\nFor criterion = 'entropy'\")\n",
    "print(\"\\tTraining score = \", model.score(x_train, y_train))\n",
    "print(\"\\tTesting score = \", s2)\n",
    "\n",
    "if(s2 > s1): sel_criterion = 'entropy'"
   ]
  },
  {
   "cell_type": "markdown",
   "metadata": {},
   "source": [
    "### Random Forest Classifier - Final Model with selected parameters\n",
    "Parameters are set to there selected values and the random state is default i.e. None."
   ]
  },
  {
   "cell_type": "code",
   "execution_count": 30,
   "metadata": {},
   "outputs": [
    {
     "name": "stdout",
     "output_type": "stream",
     "text": [
      "For Random Forest Classifier following parameters are selected:\n",
      "\tn_estimators =  43\n",
      "\tmax_depth =  6\n",
      "\tmax_features =  3\n",
      "\tcriterion =  gini\n"
     ]
    }
   ],
   "source": [
    "print(\"For Random Forest Classifier following parameters are selected:\")\n",
    "print(\"\\tn_estimators = \", sel_estimators)\n",
    "print(\"\\tmax_depth = \", sel_depth)\n",
    "print(\"\\tmax_features = \", sel_features)\n",
    "print(\"\\tcriterion = \", sel_criterion)"
   ]
  },
  {
   "cell_type": "code",
   "execution_count": 31,
   "metadata": {},
   "outputs": [
    {
     "name": "stdout",
     "output_type": "stream",
     "text": [
      "Training score =  0.9366993217784476\n",
      "Testing score =  0.9332161687170475\n"
     ]
    }
   ],
   "source": [
    "final_model_1 = RandomForestClassifier(n_estimators = sel_estimators, max_depth = sel_depth, max_features = sel_features, criterion = sel_criterion)\n",
    "final_model_1.fit(x_train, y_train)\n",
    "print(\"Training score = \", final_model_1.score(x_train, y_train))\n",
    "print(\"Testing score = \", final_model_1.score(x_test, y_test))"
   ]
  },
  {
   "cell_type": "markdown",
   "metadata": {},
   "source": [
    "### Random Forest Classifier - Accuracy"
   ]
  },
  {
   "cell_type": "code",
   "execution_count": 32,
   "metadata": {},
   "outputs": [],
   "source": [
    "from sklearn import metrics"
   ]
  },
  {
   "cell_type": "code",
   "execution_count": 33,
   "metadata": {},
   "outputs": [
    {
     "data": {
      "image/png": "[encoded data removed]",
      "text/plain": [
       "<Figure size 432x288 with 2 Axes>"
      ]
     },
     "metadata": {
      "needs_background": "light"
     },
     "output_type": "display_data"
    }
   ],
   "source": [
    "y_predict_1 = final_model_1.predict(x_test)\n",
    "cm_1 = metrics.confusion_matrix(y_test, y_predict_1, labels = [1, 0])\n",
    "\n",
    "df_cm_1 = pd.DataFrame(cm_1, index = ['Actual 1', 'Actual 0'], columns = ['Predicted 1', 'Predicted 0'])\n",
    "sns.heatmap(df_cm_1, annot = True, fmt = 'g')\n",
    "plt.title(\"Confusion Matrics\")\n",
    "plt.show()"
   ]
  },
  {
   "cell_type": "code",
   "execution_count": 34,
   "metadata": {},
   "outputs": [
    {
     "name": "stdout",
     "output_type": "stream",
     "text": [
      "Different metrics for RandomForestClassifier for test data\n",
      "\taccuracy score =  0.9332161687170475\n",
      "\tprecision score =  0.9593908629441624\n",
      "\trecall score =  0.863013698630137\n",
      "\tf1 score =  0.9086538461538461\n"
     ]
    }
   ],
   "source": [
    "print(\"Different metrics for RandomForestClassifier for test data\")\n",
    "print('\\taccuracy score = ', metrics.accuracy_score(y_test, y_predict_1))\n",
    "print('\\tprecision score = ', metrics.precision_score(y_test, y_predict_1))\n",
    "print('\\trecall score = ', metrics.recall_score(y_test, y_predict_1))\n",
    "print('\\tf1 score = ', metrics.f1_score(y_test, y_predict_1))"
   ]
  },
  {
   "cell_type": "markdown",
   "metadata": {},
   "source": [
    "## 5. Model 2 - KNeighbors Classifier"
   ]
  },
  {
   "cell_type": "code",
   "execution_count": 35,
   "metadata": {},
   "outputs": [],
   "source": [
    "from sklearn.neighbors import KNeighborsClassifier\n",
    "from scipy.stats import zscore"
   ]
  },
  {
   "cell_type": "markdown",
   "metadata": {},
   "source": [
    "KNeighbors Classifier is distance based approach so it is better to scale the data as endoded values for Segment Description range from 0 to 148, Count ranges from 0 to 1969, but for rest columns it ranges from 0 to 1. For this purpose zscore is used."
   ]
  },
  {
   "cell_type": "markdown",
   "metadata": {},
   "source": [
    "### KNeighbors Classifier - Splitting Data"
   ]
  },
  {
   "cell_type": "code",
   "execution_count": 36,
   "metadata": {},
   "outputs": [
    {
     "data": {
      "text/html": [
       "<div>\n",
       "<style scoped>\n",
       "    .dataframe tbody tr th:only-of-type {\n",
       "        vertical-align: middle;\n",
       "    }\n",
       "\n",
       "    .dataframe tbody tr th {\n",
       "        vertical-align: top;\n",
       "    }\n",
       "\n",
       "    .dataframe thead th {\n",
       "        text-align: right;\n",
       "    }\n",
       "</style>\n",
       "<table border=\"1\" class=\"dataframe\">\n",
       "  <thead>\n",
       "    <tr style=\"text-align: right;\">\n",
       "      <th></th>\n",
       "      <th>Segment Description</th>\n",
       "      <th>Count</th>\n",
       "      <th>Percentage</th>\n",
       "      <th>Segment type_gender</th>\n",
       "      <th>Segment type_mobile</th>\n",
       "      <th>Segment type_university</th>\n",
       "      <th>Answer_Yes</th>\n",
       "    </tr>\n",
       "  </thead>\n",
       "  <tbody>\n",
       "    <tr>\n",
       "      <th>1194</th>\n",
       "      <td>1.673623</td>\n",
       "      <td>-0.896606</td>\n",
       "      <td>0.649915</td>\n",
       "      <td>-0.588720</td>\n",
       "      <td>-0.584659</td>\n",
       "      <td>1.75676</td>\n",
       "      <td>-0.307715</td>\n",
       "    </tr>\n",
       "    <tr>\n",
       "      <th>22</th>\n",
       "      <td>-0.375830</td>\n",
       "      <td>0.708318</td>\n",
       "      <td>-0.115986</td>\n",
       "      <td>-0.588720</td>\n",
       "      <td>1.710399</td>\n",
       "      <td>-0.56923</td>\n",
       "      <td>-0.307715</td>\n",
       "    </tr>\n",
       "    <tr>\n",
       "      <th>1519</th>\n",
       "      <td>-0.375830</td>\n",
       "      <td>0.979486</td>\n",
       "      <td>-0.056222</td>\n",
       "      <td>-0.588720</td>\n",
       "      <td>1.710399</td>\n",
       "      <td>-0.56923</td>\n",
       "      <td>-0.307715</td>\n",
       "    </tr>\n",
       "    <tr>\n",
       "      <th>1594</th>\n",
       "      <td>-0.375830</td>\n",
       "      <td>-0.061793</td>\n",
       "      <td>-0.211896</td>\n",
       "      <td>1.698601</td>\n",
       "      <td>-0.584659</td>\n",
       "      <td>-0.56923</td>\n",
       "      <td>-0.307715</td>\n",
       "    </tr>\n",
       "    <tr>\n",
       "      <th>756</th>\n",
       "      <td>-0.375830</td>\n",
       "      <td>0.157049</td>\n",
       "      <td>0.238881</td>\n",
       "      <td>1.698601</td>\n",
       "      <td>-0.584659</td>\n",
       "      <td>-0.56923</td>\n",
       "      <td>-0.307715</td>\n",
       "    </tr>\n",
       "  </tbody>\n",
       "</table>\n",
       "</div>"
      ],
      "text/plain": [
       "      Segment Description     Count  Percentage  Segment type_gender  \\\n",
       "1194             1.673623 -0.896606    0.649915            -0.588720   \n",
       "22              -0.375830  0.708318   -0.115986            -0.588720   \n",
       "1519            -0.375830  0.979486   -0.056222            -0.588720   \n",
       "1594            -0.375830 -0.061793   -0.211896             1.698601   \n",
       "756             -0.375830  0.157049    0.238881             1.698601   \n",
       "\n",
       "      Segment type_mobile  Segment type_university  Answer_Yes  \n",
       "1194            -0.584659                  1.75676   -0.307715  \n",
       "22               1.710399                 -0.56923   -0.307715  \n",
       "1519             1.710399                 -0.56923   -0.307715  \n",
       "1594            -0.584659                 -0.56923   -0.307715  \n",
       "756             -0.584659                 -0.56923   -0.307715  "
      ]
     },
     "execution_count": 36,
     "metadata": {},
     "output_type": "execute_result"
    }
   ],
   "source": [
    "x_scaled = x.apply(zscore)\n",
    "x_scaled.sample(5)"
   ]
  },
  {
   "cell_type": "code",
   "execution_count": 37,
   "metadata": {},
   "outputs": [
    {
     "name": "stdout",
     "output_type": "stream",
     "text": [
      "For x_train, number of rows = 1327, number of columns = 7\n",
      "For x_test, number of rows = 569, number of columns = 7\n",
      "For y_train, number of rows = 1327\n",
      "For y_test, number of rows = 569\n"
     ]
    }
   ],
   "source": [
    "x_train, x_test, y_train, y_test = train_test_split(x_scaled, y, test_size = 0.3)\n",
    "print(\"For x_train, number of rows = %d, number of columns = %d\"% x_train.shape)\n",
    "print(\"For x_test, number of rows = %d, number of columns = %d\"% x_test.shape)\n",
    "print(\"For y_train, number of rows = %d\"% y_train.shape)\n",
    "print(\"For y_test, number of rows = %d\"% y_test.shape)"
   ]
  },
  {
   "cell_type": "markdown",
   "metadata": {},
   "source": [
    "### KNeighbors Classifier - Parameter Selection"
   ]
  },
  {
   "cell_type": "code",
   "execution_count": 38,
   "metadata": {},
   "outputs": [
    {
     "data": {
      "image/png": "[encoded data removed]",
      "text/plain": [
       "<Figure size 432x288 with 1 Axes>"
      ]
     },
     "metadata": {
      "needs_background": "light"
     },
     "output_type": "display_data"
    }
   ],
   "source": [
    "# checking with different number of estimators\n",
    "performance_train = []\n",
    "performance_test = []\n",
    "for i in range(2, 16):\n",
    "    model = KNeighborsClassifier(n_neighbors = i, p = 5)\n",
    "    model.fit(x_train, y_train)\n",
    "    performance_train.append(model.score(x_train, y_train))\n",
    "    performance_test.append(model.score(x_test, y_test))\n",
    "\n",
    "plt.figure()\n",
    "plt.plot(np.arange(2, 16), performance_train, label = 'training score')\n",
    "plt.plot(np.arange(2, 16), performance_test, label = 'testing score')\n",
    "plt.xlabel('n_neighbors')\n",
    "plt.ylabel('score')\n",
    "plt.title('')\n",
    "plt.legend()\n",
    "plt.show()"
   ]
  },
  {
   "cell_type": "code",
   "execution_count": 39,
   "metadata": {},
   "outputs": [
    {
     "name": "stdout",
     "output_type": "stream",
     "text": [
      "maximum testing score is = 0.898067, for n_neighbors = 5\n"
     ]
    }
   ],
   "source": [
    "sel_neighbors = np.argmax(performance_test) + 2\n",
    "print(\"maximum testing score is = %f, for n_neighbors = %s\"%(max(performance_test), sel_neighbors))"
   ]
  },
  {
   "cell_type": "markdown",
   "metadata": {},
   "source": [
    "#### For KNeighborsClassifier p = 1 implies manhattan distance, p = 2 implies euclidean distance and for arbitrary p, minkowski_distance is used."
   ]
  },
  {
   "cell_type": "code",
   "execution_count": 40,
   "metadata": {},
   "outputs": [
    {
     "data": {
      "image/png": "[encoded data removed]",
      "text/plain": [
       "<Figure size 432x288 with 1 Axes>"
      ]
     },
     "metadata": {
      "needs_background": "light"
     },
     "output_type": "display_data"
    }
   ],
   "source": [
    "# checking with different number of estimators\n",
    "performance_train = []\n",
    "performance_test = []\n",
    "for i in range(1, 11):\n",
    "    model = KNeighborsClassifier(n_neighbors = sel_neighbors, p = i)\n",
    "    model.fit(x_train, y_train)\n",
    "    performance_train.append(model.score(x_train, y_train))\n",
    "    performance_test.append(model.score(x_test, y_test))\n",
    "\n",
    "plt.figure()\n",
    "plt.plot(np.arange(1, 11), performance_train, label = 'training score')\n",
    "plt.plot(np.arange(1, 11), performance_test, label = 'testing score')\n",
    "plt.xlabel('p')\n",
    "plt.ylabel('score')\n",
    "plt.title('p vs score')\n",
    "plt.legend()\n",
    "plt.show()"
   ]
  },
  {
   "cell_type": "code",
   "execution_count": 41,
   "metadata": {},
   "outputs": [
    {
     "name": "stdout",
     "output_type": "stream",
     "text": [
      "maximum testing score is = 0.899824, for p = 1\n"
     ]
    }
   ],
   "source": [
    "sel_p = np.argmax(performance_test) + 1\n",
    "print(\"maximum testing score is = %f, for p = %s\"%(max(performance_test), sel_p))"
   ]
  },
  {
   "cell_type": "markdown",
   "metadata": {},
   "source": [
    "### KNeighbors Classifier - Final Model"
   ]
  },
  {
   "cell_type": "code",
   "execution_count": 42,
   "metadata": {},
   "outputs": [
    {
     "name": "stdout",
     "output_type": "stream",
     "text": [
      "For KNeighborsClassifier following parameters are selected:\n",
      "\tn_neighbors = 5\n",
      "\tp =  1\n"
     ]
    }
   ],
   "source": [
    "print(\"For KNeighborsClassifier following parameters are selected:\")\n",
    "print(\"\\tn_neighbors =\", sel_neighbors)\n",
    "print(\"\\tp = \", sel_p)"
   ]
  },
  {
   "cell_type": "code",
   "execution_count": 43,
   "metadata": {},
   "outputs": [
    {
     "name": "stdout",
     "output_type": "stream",
     "text": [
      "Training Accuracy =  0.9238884702336096\n",
      "Testing Accuracy =  0.8998242530755711\n"
     ]
    }
   ],
   "source": [
    "final_model_2 = KNeighborsClassifier(n_neighbors = sel_neighbors, p = sel_p)\n",
    "final_model_2.fit(x_train, y_train)\n",
    "print(\"Training Accuracy = \", final_model_2.score(x_train, y_train))\n",
    "print(\"Testing Accuracy = \", final_model_2.score(x_test, y_test))"
   ]
  },
  {
   "cell_type": "markdown",
   "metadata": {},
   "source": [
    "### KNeighbors Classifier - Accuracy"
   ]
  },
  {
   "cell_type": "code",
   "execution_count": 44,
   "metadata": {},
   "outputs": [
    {
     "data": {
      "image/png": "[encoded data removed]",
      "text/plain": [
       "<Figure size 432x288 with 2 Axes>"
      ]
     },
     "metadata": {
      "needs_background": "light"
     },
     "output_type": "display_data"
    }
   ],
   "source": [
    "y_predict_2 = final_model_2.predict(x_test)\n",
    "\n",
    "cm_2 = metrics.confusion_matrix(y_test, y_predict_2, labels = [1, 0])\n",
    "df_cm_2 = pd.DataFrame(cm_2, index = ['Actual 1', 'Actual 0'], columns = ['Predicted 1', 'Predicted 0'])\n",
    "sns.heatmap(df_cm_2, annot = True, fmt = 'g')\n",
    "plt.title(\"Confusion Matrix\")\n",
    "plt.show()"
   ]
  },
  {
   "cell_type": "code",
   "execution_count": 45,
   "metadata": {},
   "outputs": [
    {
     "name": "stdout",
     "output_type": "stream",
     "text": [
      "Different metrics for KNeighborsClassifier for test data\n",
      "\taccuracy score =  0.8998242530755711\n",
      "\tprecision score =  0.8518518518518519\n",
      "\trecall score =  0.8473684210526315\n",
      "\tf1 score =  0.8496042216358839\n"
     ]
    }
   ],
   "source": [
    "print(\"Different metrics for KNeighborsClassifier for test data\")\n",
    "print(\"\\taccuracy score = \", metrics.accuracy_score(y_test, y_predict_2))\n",
    "print(\"\\tprecision score = \", metrics.precision_score(y_test, y_predict_2))\n",
    "print(\"\\trecall score = \", metrics.recall_score(y_test, y_predict_2))\n",
    "print(\"\\tf1 score = \", metrics.f1_score(y_test, y_predict_2))"
   ]
  },
  {
   "cell_type": "code",
   "execution_count": null,
   "metadata": {},
   "outputs": [],
   "source": []
  }
 ],
 "metadata": {
  "kernelspec": {
   "display_name": "Python 3",
   "language": "python",
   "name": "python3"
  },
  "language_info": {
   "codemirror_mode": {
    "name": "ipython",
    "version": 3
   },
   "file_extension": ".py",
   "mimetype": "text/x-python",
   "name": "python",
   "nbconvert_exporter": "python",
   "pygments_lexer": "ipython3",
   "version": "3.8.8"
  }
 },
 "nbformat": 4,
 "nbformat_minor": 2
}
